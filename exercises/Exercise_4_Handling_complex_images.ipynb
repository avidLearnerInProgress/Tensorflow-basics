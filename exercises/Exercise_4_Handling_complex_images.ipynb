{
 "cells": [
  {
   "cell_type": "markdown",
   "metadata": {
    "colab_type": "text",
    "id": "UncprnB0ymAE"
   },
   "source": [
    "Below is code with a link to a happy or sad dataset which contains 80 images, 40 happy and 40 sad. \n",
    "Create a convolutional neural network that trains to 100% accuracy on these images,  which cancels training upon hitting training accuracy of >.999\n",
    "\n",
    "Hint -- it will work best with 3 convolutional layers."
   ]
  },
  {
   "cell_type": "code",
   "execution_count": 17,
   "metadata": {},
   "outputs": [],
   "source": [
    "import tensorflow as tf\n",
    "import os\n",
    "import zipfile\n",
    "from os import path, getcwd, chdir\n",
    "\n",
    "# DO NOT CHANGE THE LINE BELOW. If you are developing in a local\n",
    "# environment, then grab happy-or-sad.zip from the Coursera Jupyter Notebook\n",
    "# and place it inside a local folder and edit the path to that location\n",
    "path = f\"{getcwd()}/../tmp2/happy-or-sad.zip\"\n",
    "\n",
    "zip_ref = zipfile.ZipFile(path, 'r')\n",
    "zip_ref.extractall(\"/tmp/h-or-s\")\n",
    "zip_ref.close()"
   ]
  },
  {
   "cell_type": "code",
   "execution_count": 22,
   "metadata": {},
   "outputs": [],
   "source": [
    "# GRADED FUNCTION: train_happy_sad_model\n",
    "def train_happy_sad_model():\n",
    "    # Please write your code only where you are indicated.\n",
    "    # please do not remove # model fitting inline comments.\n",
    "    DESIRED_ACCURACY = 0.999\n",
    "\n",
    "    class myCallback(tf.keras.callbacks.Callback):\n",
    "          def on_epoch_end(self, epoch, logs={}):\n",
    "            if(logs.get('acc')>DESIRED_ACCURACY):\n",
    "                print(\"\\nReached 99.9% accuracy so cancelling training!\")\n",
    "                self.model.stop_training = True\n",
    "        \n",
    "    callbacks = myCallback()\n",
    "\n",
    "    \n",
    "    # This Code Block should Define and Compile the Model. Please assume the images are 150 X 150 in your implementation.\n",
    "    model = tf.keras.models.Sequential([\n",
    "        # Your Code Here\n",
    "        tf.keras.layers.Conv2D(64, (3,3), activation='relu', input_shape=(100, 100, 3)),\n",
    "        tf.keras.layers.MaxPooling2D(2, 2),\n",
    "        tf.keras.layers.Conv2D(64, (3,3), activation='relu'),\n",
    "        tf.keras.layers.MaxPooling2D(2, 2),\n",
    "        tf.keras.layers.Conv2D(64, (3,3), activation='relu'),\n",
    "        tf.keras.layers.MaxPooling2D(2, 2),\n",
    "        tf.keras.layers.Flatten(),\n",
    "        tf.keras.layers.Dense(128, activation='relu'),\n",
    "        tf.keras.layers.Dense(1, activation='sigmoid')])\n",
    "\n",
    "    from tensorflow.keras.optimizers import RMSprop\n",
    "\n",
    "    model.compile(loss='binary_crossentropy', optimizer='adam', metrics=['acc'])\n",
    "        \n",
    "\n",
    "    # This code block should create an instance of an ImageDataGenerator called train_datagen \n",
    "    # And a train_generator by calling train_datagen.flow_from_directory\n",
    "\n",
    "    from tensorflow.keras.preprocessing.image import ImageDataGenerator\n",
    "\n",
    "    train_datagen = ImageDataGenerator(rescale=1/255.0)\n",
    "\n",
    "    # Please use a target_size of 150 X 150.\n",
    "    train_generator = train_datagen.flow_from_directory(\n",
    "        '/tmp/h-or-s/', \n",
    "        target_size=(100,100), \n",
    "        batch_size=80, \n",
    "        class_mode='binary')\n",
    "        # Your Code Here\n",
    "    \n",
    "    # Expected output: 'Found 80 images belonging to 2 classes'\n",
    "\n",
    "    # This code block should call model.fit_generator and train for\n",
    "    # a number of epochs.\n",
    "    # model fitting\n",
    "    history = model.fit_generator(\n",
    "        train_generator,\n",
    "        steps_per_epoch=1,  \n",
    "        epochs=40,\n",
    "        verbose=1, \n",
    "        callbacks=[callbacks])\n",
    "          # Your Code Here\n",
    "    # model fitting\n",
    "    return history.history['acc'][-1]"
   ]
  },
  {
   "cell_type": "code",
   "execution_count": 23,
   "metadata": {},
   "outputs": [
    {
     "name": "stdout",
     "output_type": "stream",
     "text": [
      "Found 80 images belonging to 2 classes.\n",
      "Epoch 1/40\n",
      "1/1 [==============================] - 3s 3s/step - loss: 0.6943 - acc: 0.5000\n",
      "Epoch 2/40\n",
      "1/1 [==============================] - 0s 16ms/step - loss: 0.9076 - acc: 0.5000\n",
      "Epoch 3/40\n",
      "1/1 [==============================] - 0s 304ms/step - loss: 0.6654 - acc: 0.5000\n",
      "Epoch 4/40\n",
      "1/1 [==============================] - 0s 296ms/step - loss: 0.6719 - acc: 0.5000\n",
      "Epoch 5/40\n",
      "1/1 [==============================] - 0s 296ms/step - loss: 0.6403 - acc: 0.5000\n",
      "Epoch 6/40\n",
      "1/1 [==============================] - 0s 301ms/step - loss: 0.6101 - acc: 0.7500\n",
      "Epoch 7/40\n",
      "1/1 [==============================] - 0s 296ms/step - loss: 0.5553 - acc: 0.8750\n",
      "Epoch 8/40\n",
      "1/1 [==============================] - 0s 304ms/step - loss: 0.4848 - acc: 0.8875\n",
      "Epoch 9/40\n",
      "1/1 [==============================] - 0s 236ms/step - loss: 0.3905 - acc: 0.9375\n",
      "Epoch 10/40\n",
      "1/1 [==============================] - 0s 299ms/step - loss: 0.2982 - acc: 0.9250\n",
      "Epoch 11/40\n",
      "1/1 [==============================] - 0s 292ms/step - loss: 0.2263 - acc: 0.9375\n",
      "Epoch 12/40\n",
      "1/1 [==============================] - 0s 300ms/step - loss: 0.1847 - acc: 0.9375\n",
      "Epoch 13/40\n",
      "1/1 [==============================] - 0s 295ms/step - loss: 0.1711 - acc: 0.9500\n",
      "Epoch 14/40\n",
      "1/1 [==============================] - 0s 299ms/step - loss: 0.1953 - acc: 0.9250\n",
      "Epoch 15/40\n",
      "1/1 [==============================] - 0s 293ms/step - loss: 0.1710 - acc: 0.8625\n",
      "Epoch 16/40\n",
      "1/1 [==============================] - 0s 301ms/step - loss: 0.1481 - acc: 0.9375\n",
      "Epoch 17/40\n",
      "1/1 [==============================] - 0s 293ms/step - loss: 0.1373 - acc: 0.9500\n",
      "Epoch 18/40\n",
      "1/1 [==============================] - 0s 300ms/step - loss: 0.1524 - acc: 0.8875\n",
      "Epoch 19/40\n",
      "1/1 [==============================] - 0s 299ms/step - loss: 0.1526 - acc: 0.9375\n",
      "Epoch 20/40\n",
      "1/1 [==============================] - 0s 299ms/step - loss: 0.1221 - acc: 0.9500\n",
      "Epoch 21/40\n",
      "1/1 [==============================] - 0s 236ms/step - loss: 0.1512 - acc: 0.9125\n",
      "Epoch 22/40\n",
      "1/1 [==============================] - 0s 362ms/step - loss: 0.1026 - acc: 0.9500\n",
      "Epoch 23/40\n",
      "1/1 [==============================] - 0s 226ms/step - loss: 0.1167 - acc: 0.9500\n",
      "Epoch 24/40\n",
      "1/1 [==============================] - 0s 301ms/step - loss: 0.0792 - acc: 0.9625\n",
      "Epoch 25/40\n",
      "\n",
      "Reached 99.9% accuracy so cancelling training!\n",
      "1/1 [==============================] - 0s 298ms/step - loss: 0.1068 - acc: 1.0000\n"
     ]
    },
    {
     "data": {
      "text/plain": [
       "1.0"
      ]
     },
     "execution_count": 23,
     "metadata": {},
     "output_type": "execute_result"
    }
   ],
   "source": [
    "# The Expected output: \"Reached 99.9% accuracy so cancelling training!\"\"\n",
    "train_happy_sad_model()"
   ]
  },
  {
   "cell_type": "code",
   "execution_count": 4,
   "metadata": {},
   "outputs": [],
   "source": [
    "# Now click the 'Submit Assignment' button above.\n",
    "# Once that is complete, please run the following two cells to save your work and close the notebook"
   ]
  },
  {
   "cell_type": "code",
   "execution_count": null,
   "metadata": {},
   "outputs": [],
   "source": [
    "%%javascript\n",
    "<!-- Save the notebook -->\n",
    "IPython.notebook.save_checkpoint();"
   ]
  },
  {
   "cell_type": "code",
   "execution_count": null,
   "metadata": {},
   "outputs": [],
   "source": [
    "%%javascript\n",
    "<!-- Shutdown and close the notebook -->\n",
    "window.onbeforeunload = null\n",
    "window.close();\n",
    "IPython.notebook.session.delete();"
   ]
  }
 ],
 "metadata": {
  "coursera": {
   "course_slug": "introduction-tensorflow",
   "graded_item_id": "1kAlw",
   "launcher_item_id": "PNLYD"
  },
  "kernelspec": {
   "display_name": "Python 3",
   "language": "python",
   "name": "python3"
  },
  "language_info": {
   "codemirror_mode": {
    "name": "ipython",
    "version": 3
   },
   "file_extension": ".py",
   "mimetype": "text/x-python",
   "name": "python",
   "nbconvert_exporter": "python",
   "pygments_lexer": "ipython3",
   "version": "3.6.8"
  }
 },
 "nbformat": 4,
 "nbformat_minor": 1
}
